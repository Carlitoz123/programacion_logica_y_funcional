{
 "cells": [
  {
   "cell_type": "markdown",
   "metadata": {},
   "source": [
    "# Ejercicio 1\n",
    "Ejercicio 1 de evaluacion de expresiones en Python\n",
    "\n",
    "$\\frac{\\pi^2}{6} = \\sum_{n=1}^{\\infty}\\frac{1}{n^2}$"
   ]
  },
  {
   "cell_type": "code",
   "execution_count": 2,
   "metadata": {},
   "outputs": [
    {
     "name": "stdout",
     "output_type": "stream",
     "text": [
      "Valor teorico: 1.6449340668482264, Aproximacion: 1.6348839001848923\n",
      "Error: 0.010050166663334137\n"
     ]
    }
   ],
   "source": [
    "import math\n",
    "res= math.pi**2/6\n",
    "res2=0\n",
    "for n in range(1,100):\n",
    "    res2+=1 / (n**2)\n",
    "\n",
    "print(f\"Valor teorico: {res}, Aproximacion: {res2}\")\n",
    "error=abs(res-res2)\n",
    "print(f\"Error: {error}\")\n"
   ]
  },
  {
   "cell_type": "markdown",
   "metadata": {},
   "source": [
    "# Expresion 1"
   ]
  },
  {
   "cell_type": "code",
   "execution_count": 4,
   "metadata": {},
   "outputs": [
    {
     "name": "stdout",
     "output_type": "stream",
     "text": [
      "20\n"
     ]
    }
   ],
   "source": [
    "expr1 = (3 + 2) * 4\n",
    "print(expr1)"
   ]
  },
  {
   "cell_type": "markdown",
   "metadata": {},
   "source": [
    "Explicacion: \n",
    "1.Primero sumamos 3+2 y posteriormente muntiplicamos por 4"
   ]
  },
  {
   "cell_type": "markdown",
   "metadata": {},
   "source": [
    "# Expresion 2\n"
   ]
  },
  {
   "cell_type": "code",
   "execution_count": 8,
   "metadata": {},
   "outputs": [
    {
     "name": "stdout",
     "output_type": "stream",
     "text": [
      "18\n"
     ]
    }
   ],
   "source": [
    "expr2 = 2 * 3 ** 2 \n",
    "print(expr2)"
   ]
  },
  {
   "cell_type": "markdown",
   "metadata": {},
   "source": [
    "1. El 3 esta elavado a la potencia 2 que da resultado 9.\n",
    "\n",
    "2. Multiplicamos el resultado por 2"
   ]
  },
  {
   "cell_type": "markdown",
   "metadata": {},
   "source": [
    "# Expresion 3"
   ]
  },
  {
   "cell_type": "code",
   "execution_count": 9,
   "metadata": {},
   "outputs": [
    {
     "name": "stdout",
     "output_type": "stream",
     "text": [
      "5\n"
     ]
    }
   ],
   "source": [
    "expr3 = 10 // 3 + 2\n",
    "print(expr3)"
   ]
  },
  {
   "cell_type": "markdown",
   "metadata": {},
   "source": [
    "1. dividimos 10/3 lo que da 3.3333 pero al ser una division entera // solamente tomamos el numero entero que es el 3\n",
    "2. el resulado de la division le sumamos el 2 que da de resultado 5"
   ]
  },
  {
   "cell_type": "markdown",
   "metadata": {},
   "source": [
    "# Expresion 4"
   ]
  },
  {
   "cell_type": "code",
   "execution_count": 10,
   "metadata": {},
   "outputs": [
    {
     "name": "stdout",
     "output_type": "stream",
     "text": [
      "4\n"
     ]
    }
   ],
   "source": [
    "expr4 = 17 % 5 * 2\n",
    "print(expr4)"
   ]
  },
  {
   "cell_type": "markdown",
   "metadata": {},
   "source": [
    "1. al dividir 17 entre 5 el residuo que queda es dos\n",
    "2. al sumar el residuo lo multiplicamos por 2."
   ]
  },
  {
   "cell_type": "markdown",
   "metadata": {},
   "source": [
    "# Expresion 5\n"
   ]
  },
  {
   "cell_type": "code",
   "execution_count": 11,
   "metadata": {},
   "outputs": [
    {
     "name": "stdout",
     "output_type": "stream",
     "text": [
      "-4\n"
     ]
    }
   ],
   "source": [
    "expr5 = -2 ** 2\n",
    "print(expr5)"
   ]
  },
  {
   "cell_type": "markdown",
   "metadata": {},
   "source": [
    "1. primero hace la potencia por la jerarquia\n",
    "2. y posterior se agrega el signo que teniamos al resultado"
   ]
  },
  {
   "cell_type": "markdown",
   "metadata": {},
   "source": [
    "# Expresion 6"
   ]
  },
  {
   "cell_type": "code",
   "execution_count": 1,
   "metadata": {},
   "outputs": [
    {
     "name": "stdout",
     "output_type": "stream",
     "text": [
      "8\n"
     ]
    }
   ],
   "source": [
    "expr6 = 3 + 4 * 2 ** 2 // 3\n",
    "print(expr6)"
   ]
  },
  {
   "cell_type": "markdown",
   "metadata": {},
   "source": [
    "1. primero elevamos el dos a su potencia\n",
    "2. multiplicamos el 4 de la ecuacion y el 4 que queda de la potencia\n",
    "3. el 16 de resultado le ahcemos una division entera por lo que queda 5\n",
    "4. por ultimo sumamos el 3 restante al 5"
   ]
  },
  {
   "cell_type": "markdown",
   "metadata": {},
   "source": [
    "# Expresion 7"
   ]
  },
  {
   "cell_type": "code",
   "execution_count": 4,
   "metadata": {},
   "outputs": [
    {
     "name": "stdout",
     "output_type": "stream",
     "text": [
      "True\n"
     ]
    }
   ],
   "source": [
    "expr7 = 3 < 4 < 5\n",
    "print(expr7)"
   ]
  },
  {
   "cell_type": "markdown",
   "metadata": {},
   "source": [
    "1. se compara y el 3 es menor a 4, tambien 4 es menor a 5."
   ]
  },
  {
   "cell_type": "markdown",
   "metadata": {},
   "source": [
    "# Expresion 8"
   ]
  },
  {
   "cell_type": "code",
   "execution_count": 5,
   "metadata": {},
   "outputs": [
    {
     "name": "stdout",
     "output_type": "stream",
     "text": [
      "True\n"
     ]
    }
   ],
   "source": [
    "expr8 = (3 > 2) and (5 < 10) or False\n",
    "print(expr8)"
   ]
  },
  {
   "cell_type": "markdown",
   "metadata": {},
   "source": [
    "1. comparamos primero 3 es mayor a dos(true)\n",
    "2. 5 es menor a 10(true)\n",
    "3.si ambas comparaciones son correctas es true, si alguna no fuera correcta seria false la respuesta"
   ]
  },
  {
   "cell_type": "markdown",
   "metadata": {},
   "source": [
    "# Expresion 9"
   ]
  },
  {
   "cell_type": "code",
   "execution_count": 6,
   "metadata": {},
   "outputs": [
    {
     "name": "stdout",
     "output_type": "stream",
     "text": [
      "4\n"
     ]
    }
   ],
   "source": [
    "expr9 = 5 & 3 + 1\n",
    "print(expr9)"
   ]
  },
  {
   "cell_type": "markdown",
   "metadata": {},
   "source": [
    "1. segun las prioridades primero sumamos 3+1\n",
    "2. procedemos a elaborar el 5 & 4.\n",
    "3. segun la tablla del and 5 es 101 y 4 es 100\n",
    "por lo que esta suma da 101\n",
    "                        100\n",
    "                        ----\n",
    "                        100\n"
   ]
  },
  {
   "cell_type": "markdown",
   "metadata": {},
   "source": [
    "# Expresion 10"
   ]
  },
  {
   "cell_type": "code",
   "execution_count": 8,
   "metadata": {},
   "outputs": [
    {
     "name": "stdout",
     "output_type": "stream",
     "text": [
      "True\n"
     ]
    }
   ],
   "source": [
    "expr10 = (2 + 3) * 4 ** 2 // (5 % 3) and not False\n",
    "print(expr10)"
   ]
  },
  {
   "cell_type": "markdown",
   "metadata": {},
   "source": [
    "1. primero los parentis, en este caso sumamos 2+3 que es 5\n",
    "2. el siguiente parentesis es 5%3 que es el resto de la divisionq ue es 2 \n",
    "3. ahora la potencia es 4 elevado 2, que da 16.\n",
    "4. ahora 5*16 que da 80\n",
    "5. por ultimo la division entera entre 2 que da 40\n",
    "6. como dice que solo la ecuacion y termina diciendo que no es falso, por lo que da verdadero\n"
   ]
  },
  {
   "cell_type": "markdown",
   "metadata": {},
   "source": [
    "# Expresion 11"
   ]
  },
  {
   "cell_type": "code",
   "execution_count": 10,
   "metadata": {},
   "outputs": [
    {
     "name": "stdout",
     "output_type": "stream",
     "text": [
      "False\n"
     ]
    }
   ],
   "source": [
    "expr11 =  ((65 & 66) > 70 ) and not (65 ^ 66) == 0 \n",
    "print(expr11)"
   ]
  },
  {
   "cell_type": "markdown",
   "metadata": {},
   "source": [
    "1. comenzamos con los parentesis dentro de los parentesis da 1000001(65) y 1000010(66) y da (64) 1000000\n",
    "2. 64 es menor que 70 da false\n",
    "3. ahora el xor de 65^66 que da 3 da un nnumero distinto a 0 por lo que es true\n",
    "4. que comparando el and not seria false and not true por lo que da false \n",
    " \n"
   ]
  }
 ],
 "metadata": {
  "kernelspec": {
   "display_name": "Python 3",
   "language": "python",
   "name": "python3"
  },
  "language_info": {
   "codemirror_mode": {
    "name": "ipython",
    "version": 3
   },
   "file_extension": ".py",
   "mimetype": "text/x-python",
   "name": "python",
   "nbconvert_exporter": "python",
   "pygments_lexer": "ipython3",
   "version": "3.11.4"
  }
 },
 "nbformat": 4,
 "nbformat_minor": 2
}
